{
 "cells": [
  {
   "cell_type": "code",
   "execution_count": 1,
   "id": "4f48a8ce",
   "metadata": {},
   "outputs": [
    {
     "name": "stdout",
     "output_type": "stream",
     "text": [
      "Students who attended both workshops:\n",
      " 0     Bob\n",
      "1    Kate\n",
      "Name: Name, dtype: object\n",
      "Students who attended a single workshop only:\n",
      " 0    Angela\n",
      "2       Joe\n",
      "3      Rick\n",
      "5      Nick\n",
      "0      Jack\n",
      "2      Jill\n",
      "3      Mary\n",
      "5    Sharon\n",
      "Name: Name, dtype: object\n",
      "Total number of records in the merged data frame:\n",
      "12\n",
      "Descriptive statistics for the hierarchical data frame:\n",
      "                  Duration (in mins)                                        \n",
      "                               count  mean std   min   25%   50%   75%   max\n",
      "Name   Date                                                                 \n",
      "Angela 2022-06-06                1.0  30.0 NaN  30.0  30.0  30.0  30.0  30.0\n",
      "Bob    2022-06-06                1.0  40.0 NaN  40.0  40.0  40.0  40.0  40.0\n",
      "       2022-06-07                1.0  40.0 NaN  40.0  40.0  40.0  40.0  40.0\n",
      "Jack   2022-06-07                1.0  30.0 NaN  30.0  30.0  30.0  30.0  30.0\n",
      "Jill   2022-06-07                1.0  50.0 NaN  50.0  50.0  50.0  50.0  50.0\n",
      "Joe    2022-06-06                1.0  50.0 NaN  50.0  50.0  50.0  50.0  50.0\n",
      "Kate   2022-06-06                1.0  40.0 NaN  40.0  40.0  40.0  40.0  40.0\n",
      "       2022-06-07                1.0  40.0 NaN  40.0  40.0  40.0  40.0  40.0\n",
      "Mary   2022-06-07                1.0  30.0 NaN  30.0  30.0  30.0  30.0  30.0\n",
      "Nick   2022-06-06                1.0  50.0 NaN  50.0  50.0  50.0  50.0  50.0\n",
      "Rick   2022-06-06                1.0  30.0 NaN  30.0  30.0  30.0  30.0  30.0\n",
      "Sharon 2022-06-07                1.0  50.0 NaN  50.0  50.0  50.0  50.0  50.0\n"
     ]
    }
   ],
   "source": [
    "#4.Consider two excel files having attendance of two workshos. Each file has three fields ‘Name’, ‘Date, duration (in minutes) where names are unique within a file. Note that duration may take one of three values (30, 40, 50) only. \n",
    "#Import the data into two data frames and do the following:\n",
    "import pandas as pd\n",
    "\n",
    "# Load the attendance data from the first Excel file\n",
    "df1 = pd.read_excel('workbook1.xlsx')\n",
    "\n",
    "# Load the attendance data from the second Excel file\n",
    "df2 = pd.read_excel('workbook2.xlsx')\n",
    "\n",
    "# Task a: Find the names of students who attended both workshops\n",
    "attended_both = pd.merge(df1, df2, on='Name', how='inner')['Name']\n",
    "print(\"Students who attended both workshops:\\n\", attended_both)\n",
    "\n",
    "# Task b: Find names of students who attended a single workshop only\n",
    "attended_single = pd.concat([df1[~df1['Name'].isin(df2['Name'])], df2[~df2['Name'].isin(df1['Name'])]])['Name']\n",
    "print(\"Students who attended a single workshop only:\\n\", attended_single)\n",
    "\n",
    "# Task c: Merge the data frames row-wise and find the total number of records\n",
    "merged_df = pd.concat([df1, df2])\n",
    "total_records = len(merged_df)\n",
    "\n",
    "print(\"Total number of records in the merged data frame:\")\n",
    "print(total_records)\n",
    "\n",
    "\n",
    "# Task d: Merge the data frames row-wise and set 'Name' and 'Date' as multi-row indexes\n",
    "merged_df = pd.concat([df1, df2], keys=['Workbook1', 'Workbook2'])\n",
    "statistics = merged_df.groupby(['Name', 'Date']).describe()\n",
    "\n",
    "print(\"Descriptive statistics for the hierarchical data frame:\")\n",
    "print(statistics)\n",
    "\n",
    "\n"
   ]
  },
  {
   "cell_type": "code",
   "execution_count": null,
   "id": "a5098feb",
   "metadata": {},
   "outputs": [],
   "source": []
  }
 ],
 "metadata": {
  "kernelspec": {
   "display_name": "Python 3 (ipykernel)",
   "language": "python",
   "name": "python3"
  },
  "language_info": {
   "codemirror_mode": {
    "name": "ipython",
    "version": 3
   },
   "file_extension": ".py",
   "mimetype": "text/x-python",
   "name": "python",
   "nbconvert_exporter": "python",
   "pygments_lexer": "ipython3",
   "version": "3.11.3"
  }
 },
 "nbformat": 4,
 "nbformat_minor": 5
}
