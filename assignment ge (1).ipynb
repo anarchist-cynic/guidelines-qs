{
 "cells": [
  {
   "cell_type": "code",
   "execution_count": 1,
   "id": "17c64794",
   "metadata": {},
   "outputs": [
    {
     "data": {
      "text/plain": [
       "array([[5, 2, 1],\n",
       "       [2, 1, 8]])"
      ]
     },
     "execution_count": 1,
     "metadata": {},
     "output_type": "execute_result"
    }
   ],
   "source": [
    "#Q1 Consider the following Arrays:\n",
    "import numpy as np\n",
    "import pandas as pd\n",
    "arr1 = np.array([[1, 1, 0], [9, 7, 8], [6, 8, 4]])\n",
    "\n",
    "arr2 = np.array([[[5, 2, 1], [2, 1, 8]], [[1, 2, 3], [4, 5, 6]]])\n",
    "\n",
    "#Find output of the following:\n",
    "\n",
    "arr2[0]"
   ]
  },
  {
   "cell_type": "code",
   "execution_count": 2,
   "id": "58522ded",
   "metadata": {},
   "outputs": [
    {
     "data": {
      "text/plain": [
       "array([4, 5, 6])"
      ]
     },
     "execution_count": 2,
     "metadata": {},
     "output_type": "execute_result"
    }
   ],
   "source": [
    "arr2[1] [1]"
   ]
  },
  {
   "cell_type": "code",
   "execution_count": 3,
   "id": "1ffb68d7",
   "metadata": {},
   "outputs": [
    {
     "data": {
      "text/plain": [
       "array([0, 8])"
      ]
     },
     "execution_count": 3,
     "metadata": {},
     "output_type": "execute_result"
    }
   ],
   "source": [
    "arr1[:2, -1]\n"
   ]
  },
  {
   "cell_type": "code",
   "execution_count": 4,
   "id": "72f8d4dc",
   "metadata": {},
   "outputs": [
    {
     "data": {
      "text/plain": [
       "array([[0],\n",
       "       [8],\n",
       "       [4]])"
      ]
     },
     "execution_count": 4,
     "metadata": {},
     "output_type": "execute_result"
    }
   ],
   "source": [
    "arr1[:,2:]\n",
    "\n"
   ]
  },
  {
   "cell_type": "code",
   "execution_count": 5,
   "id": "985538ce",
   "metadata": {},
   "outputs": [
    {
     "data": {
      "text/plain": [
       "array([6, 8, 4])"
      ]
     },
     "execution_count": 5,
     "metadata": {},
     "output_type": "execute_result"
    }
   ],
   "source": [
    "arr1[-1,:]\n"
   ]
  },
  {
   "cell_type": "code",
   "execution_count": 6,
   "id": "35247e40",
   "metadata": {},
   "outputs": [
    {
     "data": {
      "text/plain": [
       "{'State': ['Delhi', 'Mumbai', 'Bangalore', 'Delhi', 'Kolkata', 'Pune'],\n",
       " 'Year': [2001, 1992, 1995, 2005, 1992, 2001],\n",
       " 'Population': [5.2, 1.8, 1.5, 7.8, 1.2, 2.5]}"
      ]
     },
     "execution_count": 6,
     "metadata": {},
     "output_type": "execute_result"
    }
   ],
   "source": [
    "#Consider the following Data Frame:\n",
    "\n",
    "Data = {'State': ['Delhi', 'Mumbai', 'Bangalore', 'Delhi', 'Kolkata', 'Pune'],\n",
    " 'Year': [2001, 1992, 1995, 2005, 1992, 2001],\n",
    " 'Population': [5.2, 1.8, 1.5, 7.8, 1.2, 2.5]\n",
    "       }\n",
    "df = pd.DataFrame(Data)\n",
    "Data\n",
    "\n",
    "#Answer the following:\n",
    "\n",
    "#a. Rename the indexes as “One”, “Two”, “Three”, “Four”, “Five”, “Six”\n",
    "#b. Add another column in the Data Frame “Extra” having values True corresponding to state ‘Delhi’ else False.\n",
    "#c. Name all the states with Population more than 2.\n",
    "#d. Drop rows ‘Three’ and ‘Six’.\n"
   ]
  },
  {
   "cell_type": "code",
   "execution_count": 7,
   "id": "e6ef84c9",
   "metadata": {},
   "outputs": [
    {
     "data": {
      "text/html": [
       "<div>\n",
       "<style scoped>\n",
       "    .dataframe tbody tr th:only-of-type {\n",
       "        vertical-align: middle;\n",
       "    }\n",
       "\n",
       "    .dataframe tbody tr th {\n",
       "        vertical-align: top;\n",
       "    }\n",
       "\n",
       "    .dataframe thead th {\n",
       "        text-align: right;\n",
       "    }\n",
       "</style>\n",
       "<table border=\"1\" class=\"dataframe\">\n",
       "  <thead>\n",
       "    <tr style=\"text-align: right;\">\n",
       "      <th></th>\n",
       "      <th>State</th>\n",
       "      <th>Year</th>\n",
       "      <th>Population</th>\n",
       "    </tr>\n",
       "  </thead>\n",
       "  <tbody>\n",
       "    <tr>\n",
       "      <th>0</th>\n",
       "      <td>Delhi</td>\n",
       "      <td>2001</td>\n",
       "      <td>5.2</td>\n",
       "    </tr>\n",
       "    <tr>\n",
       "      <th>1</th>\n",
       "      <td>Mumbai</td>\n",
       "      <td>1992</td>\n",
       "      <td>1.8</td>\n",
       "    </tr>\n",
       "    <tr>\n",
       "      <th>2</th>\n",
       "      <td>Bangalore</td>\n",
       "      <td>1995</td>\n",
       "      <td>1.5</td>\n",
       "    </tr>\n",
       "    <tr>\n",
       "      <th>3</th>\n",
       "      <td>Delhi</td>\n",
       "      <td>2005</td>\n",
       "      <td>7.8</td>\n",
       "    </tr>\n",
       "    <tr>\n",
       "      <th>4</th>\n",
       "      <td>Kolkata</td>\n",
       "      <td>1992</td>\n",
       "      <td>1.2</td>\n",
       "    </tr>\n",
       "    <tr>\n",
       "      <th>5</th>\n",
       "      <td>Pune</td>\n",
       "      <td>2001</td>\n",
       "      <td>2.5</td>\n",
       "    </tr>\n",
       "  </tbody>\n",
       "</table>\n",
       "</div>"
      ],
      "text/plain": [
       "       State  Year  Population\n",
       "0      Delhi  2001         5.2\n",
       "1     Mumbai  1992         1.8\n",
       "2  Bangalore  1995         1.5\n",
       "3      Delhi  2005         7.8\n",
       "4    Kolkata  1992         1.2\n",
       "5       Pune  2001         2.5"
      ]
     },
     "execution_count": 7,
     "metadata": {},
     "output_type": "execute_result"
    }
   ],
   "source": [
    "Data = {'State': ['Delhi', 'Mumbai', 'Bangalore', 'Delhi', 'Kolkata', 'Pune'],\n",
    " 'Year': [2001, 1992, 1995, 2005, 1992, 2001],\n",
    " 'Population': [5.2, 1.8, 1.5, 7.8, 1.2, 2.5],\n",
    "       }\n",
    "\n",
    "df = pd.DataFrame(Data)\n",
    "df\n"
   ]
  },
  {
   "cell_type": "code",
   "execution_count": 8,
   "id": "215dddef",
   "metadata": {},
   "outputs": [
    {
     "data": {
      "text/html": [
       "<div>\n",
       "<style scoped>\n",
       "    .dataframe tbody tr th:only-of-type {\n",
       "        vertical-align: middle;\n",
       "    }\n",
       "\n",
       "    .dataframe tbody tr th {\n",
       "        vertical-align: top;\n",
       "    }\n",
       "\n",
       "    .dataframe thead th {\n",
       "        text-align: right;\n",
       "    }\n",
       "</style>\n",
       "<table border=\"1\" class=\"dataframe\">\n",
       "  <thead>\n",
       "    <tr style=\"text-align: right;\">\n",
       "      <th></th>\n",
       "      <th>State</th>\n",
       "      <th>Year</th>\n",
       "      <th>Population</th>\n",
       "    </tr>\n",
       "  </thead>\n",
       "  <tbody>\n",
       "    <tr>\n",
       "      <th>One</th>\n",
       "      <td>Delhi</td>\n",
       "      <td>2001</td>\n",
       "      <td>5.2</td>\n",
       "    </tr>\n",
       "    <tr>\n",
       "      <th>Two</th>\n",
       "      <td>Mumbai</td>\n",
       "      <td>1992</td>\n",
       "      <td>1.8</td>\n",
       "    </tr>\n",
       "    <tr>\n",
       "      <th>Three</th>\n",
       "      <td>Bangalore</td>\n",
       "      <td>1995</td>\n",
       "      <td>1.5</td>\n",
       "    </tr>\n",
       "    <tr>\n",
       "      <th>Four</th>\n",
       "      <td>Delhi</td>\n",
       "      <td>2005</td>\n",
       "      <td>7.8</td>\n",
       "    </tr>\n",
       "    <tr>\n",
       "      <th>Five</th>\n",
       "      <td>Kolkata</td>\n",
       "      <td>1992</td>\n",
       "      <td>1.2</td>\n",
       "    </tr>\n",
       "    <tr>\n",
       "      <th>Six</th>\n",
       "      <td>Pune</td>\n",
       "      <td>2001</td>\n",
       "      <td>2.5</td>\n",
       "    </tr>\n",
       "  </tbody>\n",
       "</table>\n",
       "</div>"
      ],
      "text/plain": [
       "           State  Year  Population\n",
       "One        Delhi  2001         5.2\n",
       "Two       Mumbai  1992         1.8\n",
       "Three  Bangalore  1995         1.5\n",
       "Four       Delhi  2005         7.8\n",
       "Five     Kolkata  1992         1.2\n",
       "Six         Pune  2001         2.5"
      ]
     },
     "execution_count": 8,
     "metadata": {},
     "output_type": "execute_result"
    }
   ],
   "source": [
    "#a. Rename the indexes as “One”, “Two”, “Three”, “Four”, “Five”, “Six”\n",
    "Index = ['One', 'Two', 'Three', 'Four', 'Five', 'Six']\n",
    "df = pd.DataFrame(Data, index = [Index])\n",
    "df"
   ]
  },
  {
   "cell_type": "code",
   "execution_count": 9,
   "id": "66caea79",
   "metadata": {},
   "outputs": [
    {
     "data": {
      "text/html": [
       "<div>\n",
       "<style scoped>\n",
       "    .dataframe tbody tr th:only-of-type {\n",
       "        vertical-align: middle;\n",
       "    }\n",
       "\n",
       "    .dataframe tbody tr th {\n",
       "        vertical-align: top;\n",
       "    }\n",
       "\n",
       "    .dataframe thead th {\n",
       "        text-align: right;\n",
       "    }\n",
       "</style>\n",
       "<table border=\"1\" class=\"dataframe\">\n",
       "  <thead>\n",
       "    <tr style=\"text-align: right;\">\n",
       "      <th></th>\n",
       "      <th>State</th>\n",
       "      <th>Year</th>\n",
       "      <th>Population</th>\n",
       "      <th>Extra</th>\n",
       "    </tr>\n",
       "  </thead>\n",
       "  <tbody>\n",
       "    <tr>\n",
       "      <th>One</th>\n",
       "      <td>Delhi</td>\n",
       "      <td>2001</td>\n",
       "      <td>5.2</td>\n",
       "      <td>True</td>\n",
       "    </tr>\n",
       "    <tr>\n",
       "      <th>Two</th>\n",
       "      <td>Mumbai</td>\n",
       "      <td>1992</td>\n",
       "      <td>1.8</td>\n",
       "      <td>False</td>\n",
       "    </tr>\n",
       "    <tr>\n",
       "      <th>Three</th>\n",
       "      <td>Bangalore</td>\n",
       "      <td>1995</td>\n",
       "      <td>1.5</td>\n",
       "      <td>False</td>\n",
       "    </tr>\n",
       "    <tr>\n",
       "      <th>Four</th>\n",
       "      <td>Delhi</td>\n",
       "      <td>2005</td>\n",
       "      <td>7.8</td>\n",
       "      <td>True</td>\n",
       "    </tr>\n",
       "    <tr>\n",
       "      <th>Five</th>\n",
       "      <td>Kolkata</td>\n",
       "      <td>1992</td>\n",
       "      <td>1.2</td>\n",
       "      <td>False</td>\n",
       "    </tr>\n",
       "    <tr>\n",
       "      <th>Six</th>\n",
       "      <td>Pune</td>\n",
       "      <td>2001</td>\n",
       "      <td>2.5</td>\n",
       "      <td>False</td>\n",
       "    </tr>\n",
       "  </tbody>\n",
       "</table>\n",
       "</div>"
      ],
      "text/plain": [
       "           State  Year  Population  Extra\n",
       "One        Delhi  2001         5.2   True\n",
       "Two       Mumbai  1992         1.8  False\n",
       "Three  Bangalore  1995         1.5  False\n",
       "Four       Delhi  2005         7.8   True\n",
       "Five     Kolkata  1992         1.2  False\n",
       "Six         Pune  2001         2.5  False"
      ]
     },
     "execution_count": 9,
     "metadata": {},
     "output_type": "execute_result"
    }
   ],
   "source": [
    "#b. Add another column in the Data Frame “Extra” having values True corresponding to state ‘Delhi’ else False.\n",
    "df2 = pd.DataFrame(df, columns = ['State', 'Year', 'Population', 'Extra'])\n",
    "df2['Extra'] = df2['State'] == 'Delhi'\n",
    "df2"
   ]
  },
  {
   "cell_type": "code",
   "execution_count": 10,
   "id": "fbb0af41",
   "metadata": {},
   "outputs": [
    {
     "data": {
      "text/html": [
       "<div>\n",
       "<style scoped>\n",
       "    .dataframe tbody tr th:only-of-type {\n",
       "        vertical-align: middle;\n",
       "    }\n",
       "\n",
       "    .dataframe tbody tr th {\n",
       "        vertical-align: top;\n",
       "    }\n",
       "\n",
       "    .dataframe thead th {\n",
       "        text-align: right;\n",
       "    }\n",
       "</style>\n",
       "<table border=\"1\" class=\"dataframe\">\n",
       "  <thead>\n",
       "    <tr style=\"text-align: right;\">\n",
       "      <th></th>\n",
       "      <th>State</th>\n",
       "      <th>Year</th>\n",
       "      <th>Population</th>\n",
       "      <th>Extra</th>\n",
       "    </tr>\n",
       "  </thead>\n",
       "  <tbody>\n",
       "    <tr>\n",
       "      <th>One</th>\n",
       "      <td>Delhi</td>\n",
       "      <td>2001</td>\n",
       "      <td>5.2</td>\n",
       "      <td>True</td>\n",
       "    </tr>\n",
       "    <tr>\n",
       "      <th>Four</th>\n",
       "      <td>Delhi</td>\n",
       "      <td>2005</td>\n",
       "      <td>7.8</td>\n",
       "      <td>True</td>\n",
       "    </tr>\n",
       "    <tr>\n",
       "      <th>Six</th>\n",
       "      <td>Pune</td>\n",
       "      <td>2001</td>\n",
       "      <td>2.5</td>\n",
       "      <td>False</td>\n",
       "    </tr>\n",
       "  </tbody>\n",
       "</table>\n",
       "</div>"
      ],
      "text/plain": [
       "      State  Year  Population  Extra\n",
       "One   Delhi  2001         5.2   True\n",
       "Four  Delhi  2005         7.8   True\n",
       "Six    Pune  2001         2.5  False"
      ]
     },
     "execution_count": 10,
     "metadata": {},
     "output_type": "execute_result"
    }
   ],
   "source": [
    "#c. Name all the states with Population more than 2.\n",
    "Pop = df2[df2.Population > 2]\n",
    "Pop"
   ]
  },
  {
   "cell_type": "code",
   "execution_count": 11,
   "id": "2b38c1f0",
   "metadata": {},
   "outputs": [
    {
     "data": {
      "text/plain": [
       "One     Delhi\n",
       "Four    Delhi\n",
       "Six      Pune\n",
       "Name: State, dtype: object"
      ]
     },
     "execution_count": 11,
     "metadata": {},
     "output_type": "execute_result"
    }
   ],
   "source": [
    "Pop.State\n"
   ]
  },
  {
   "cell_type": "code",
   "execution_count": 12,
   "id": "dc06a0f1",
   "metadata": {},
   "outputs": [
    {
     "name": "stderr",
     "output_type": "stream",
     "text": [
      "/var/folders/l7/qy63p4fn1r97qfbcpj42tsp80000gn/T/ipykernel_40436/1933575260.py:2: PerformanceWarning: dropping on a non-lexsorted multi-index without a level parameter may impact performance.\n",
      "  drop3 = df2.drop('Three')\n"
     ]
    },
    {
     "data": {
      "text/html": [
       "<div>\n",
       "<style scoped>\n",
       "    .dataframe tbody tr th:only-of-type {\n",
       "        vertical-align: middle;\n",
       "    }\n",
       "\n",
       "    .dataframe tbody tr th {\n",
       "        vertical-align: top;\n",
       "    }\n",
       "\n",
       "    .dataframe thead th {\n",
       "        text-align: right;\n",
       "    }\n",
       "</style>\n",
       "<table border=\"1\" class=\"dataframe\">\n",
       "  <thead>\n",
       "    <tr style=\"text-align: right;\">\n",
       "      <th></th>\n",
       "      <th>State</th>\n",
       "      <th>Year</th>\n",
       "      <th>Population</th>\n",
       "      <th>Extra</th>\n",
       "    </tr>\n",
       "  </thead>\n",
       "  <tbody>\n",
       "    <tr>\n",
       "      <th>One</th>\n",
       "      <td>Delhi</td>\n",
       "      <td>2001</td>\n",
       "      <td>5.2</td>\n",
       "      <td>True</td>\n",
       "    </tr>\n",
       "    <tr>\n",
       "      <th>Two</th>\n",
       "      <td>Mumbai</td>\n",
       "      <td>1992</td>\n",
       "      <td>1.8</td>\n",
       "      <td>False</td>\n",
       "    </tr>\n",
       "    <tr>\n",
       "      <th>Four</th>\n",
       "      <td>Delhi</td>\n",
       "      <td>2005</td>\n",
       "      <td>7.8</td>\n",
       "      <td>True</td>\n",
       "    </tr>\n",
       "    <tr>\n",
       "      <th>Five</th>\n",
       "      <td>Kolkata</td>\n",
       "      <td>1992</td>\n",
       "      <td>1.2</td>\n",
       "      <td>False</td>\n",
       "    </tr>\n",
       "    <tr>\n",
       "      <th>Six</th>\n",
       "      <td>Pune</td>\n",
       "      <td>2001</td>\n",
       "      <td>2.5</td>\n",
       "      <td>False</td>\n",
       "    </tr>\n",
       "  </tbody>\n",
       "</table>\n",
       "</div>"
      ],
      "text/plain": [
       "        State  Year  Population  Extra\n",
       "One     Delhi  2001         5.2   True\n",
       "Two    Mumbai  1992         1.8  False\n",
       "Four    Delhi  2005         7.8   True\n",
       "Five  Kolkata  1992         1.2  False\n",
       "Six      Pune  2001         2.5  False"
      ]
     },
     "execution_count": 12,
     "metadata": {},
     "output_type": "execute_result"
    }
   ],
   "source": [
    "#d. Drop rows ‘Three’ and ‘Six’.\n",
    "drop3 = df2.drop('Three')\n",
    "drop3"
   ]
  },
  {
   "cell_type": "code",
   "execution_count": 13,
   "id": "276899c7",
   "metadata": {},
   "outputs": [
    {
     "name": "stderr",
     "output_type": "stream",
     "text": [
      "/var/folders/l7/qy63p4fn1r97qfbcpj42tsp80000gn/T/ipykernel_40436/1891032251.py:1: PerformanceWarning: dropping on a non-lexsorted multi-index without a level parameter may impact performance.\n",
      "  drop6 = drop3.drop('Six')\n"
     ]
    },
    {
     "data": {
      "text/html": [
       "<div>\n",
       "<style scoped>\n",
       "    .dataframe tbody tr th:only-of-type {\n",
       "        vertical-align: middle;\n",
       "    }\n",
       "\n",
       "    .dataframe tbody tr th {\n",
       "        vertical-align: top;\n",
       "    }\n",
       "\n",
       "    .dataframe thead th {\n",
       "        text-align: right;\n",
       "    }\n",
       "</style>\n",
       "<table border=\"1\" class=\"dataframe\">\n",
       "  <thead>\n",
       "    <tr style=\"text-align: right;\">\n",
       "      <th></th>\n",
       "      <th>State</th>\n",
       "      <th>Year</th>\n",
       "      <th>Population</th>\n",
       "      <th>Extra</th>\n",
       "    </tr>\n",
       "  </thead>\n",
       "  <tbody>\n",
       "    <tr>\n",
       "      <th>One</th>\n",
       "      <td>Delhi</td>\n",
       "      <td>2001</td>\n",
       "      <td>5.2</td>\n",
       "      <td>True</td>\n",
       "    </tr>\n",
       "    <tr>\n",
       "      <th>Two</th>\n",
       "      <td>Mumbai</td>\n",
       "      <td>1992</td>\n",
       "      <td>1.8</td>\n",
       "      <td>False</td>\n",
       "    </tr>\n",
       "    <tr>\n",
       "      <th>Four</th>\n",
       "      <td>Delhi</td>\n",
       "      <td>2005</td>\n",
       "      <td>7.8</td>\n",
       "      <td>True</td>\n",
       "    </tr>\n",
       "    <tr>\n",
       "      <th>Five</th>\n",
       "      <td>Kolkata</td>\n",
       "      <td>1992</td>\n",
       "      <td>1.2</td>\n",
       "      <td>False</td>\n",
       "    </tr>\n",
       "  </tbody>\n",
       "</table>\n",
       "</div>"
      ],
      "text/plain": [
       "        State  Year  Population  Extra\n",
       "One     Delhi  2001         5.2   True\n",
       "Two    Mumbai  1992         1.8  False\n",
       "Four    Delhi  2005         7.8   True\n",
       "Five  Kolkata  1992         1.2  False"
      ]
     },
     "execution_count": 13,
     "metadata": {},
     "output_type": "execute_result"
    }
   ],
   "source": [
    "drop6 = drop3.drop('Six')\n",
    "drop6"
   ]
  },
  {
   "cell_type": "code",
   "execution_count": 14,
   "id": "cc4d6ac4",
   "metadata": {},
   "outputs": [],
   "source": [
    "#Q5 Consider the following Series:\n",
    "\n",
    "SR = pd.Series(([8, -2, 6, 4, 3, 0, 6, -1]), index = [0, 3, 4, 6,  7, 10, 12, 14])\n",
    "\n",
    "#Find the output of the following:\n",
    "\n",
    "#SR.rank()\n",
    "#SR.rank(method = ‘first’)\n",
    "#SR.rank(ascending = False, method = ‘min’)\n",
    "#SR.reindex(range(6), method = ‘ffill’)\n",
    "#SR.replace({-2: np.nan, 6: 0})\n"
   ]
  },
  {
   "cell_type": "code",
   "execution_count": 15,
   "id": "6e455c43",
   "metadata": {},
   "outputs": [
    {
     "data": {
      "text/plain": [
       "0     8.0\n",
       "3     1.0\n",
       "4     6.5\n",
       "6     5.0\n",
       "7     4.0\n",
       "10    3.0\n",
       "12    6.5\n",
       "14    2.0\n",
       "dtype: float64"
      ]
     },
     "execution_count": 15,
     "metadata": {},
     "output_type": "execute_result"
    }
   ],
   "source": [
    "SR.rank()"
   ]
  },
  {
   "cell_type": "code",
   "execution_count": 16,
   "id": "d70e2678",
   "metadata": {},
   "outputs": [
    {
     "data": {
      "text/plain": [
       "0     8.0\n",
       "3     1.0\n",
       "4     6.0\n",
       "6     5.0\n",
       "7     4.0\n",
       "10    3.0\n",
       "12    7.0\n",
       "14    2.0\n",
       "dtype: float64"
      ]
     },
     "execution_count": 16,
     "metadata": {},
     "output_type": "execute_result"
    }
   ],
   "source": [
    "SR.rank(method = 'first')"
   ]
  },
  {
   "cell_type": "code",
   "execution_count": 17,
   "id": "85383f24",
   "metadata": {},
   "outputs": [
    {
     "data": {
      "text/plain": [
       "0     1.0\n",
       "3     8.0\n",
       "4     2.0\n",
       "6     4.0\n",
       "7     5.0\n",
       "10    6.0\n",
       "12    2.0\n",
       "14    7.0\n",
       "dtype: float64"
      ]
     },
     "execution_count": 17,
     "metadata": {},
     "output_type": "execute_result"
    }
   ],
   "source": [
    "SR.rank(ascending = False, method = 'min')"
   ]
  },
  {
   "cell_type": "code",
   "execution_count": 18,
   "id": "fadc819c",
   "metadata": {},
   "outputs": [
    {
     "data": {
      "text/plain": [
       "0    8\n",
       "1    8\n",
       "2    8\n",
       "3   -2\n",
       "4    6\n",
       "5    6\n",
       "dtype: int64"
      ]
     },
     "execution_count": 18,
     "metadata": {},
     "output_type": "execute_result"
    }
   ],
   "source": [
    "SR.reindex(range(6), method = 'ffill')"
   ]
  },
  {
   "cell_type": "code",
   "execution_count": 19,
   "id": "21d797bd",
   "metadata": {},
   "outputs": [
    {
     "data": {
      "text/plain": [
       "0     8.0\n",
       "3     NaN\n",
       "4     0.0\n",
       "6     4.0\n",
       "7     3.0\n",
       "10    0.0\n",
       "12    0.0\n",
       "14   -1.0\n",
       "dtype: float64"
      ]
     },
     "execution_count": 19,
     "metadata": {},
     "output_type": "execute_result"
    }
   ],
   "source": [
    "SR.replace({-2: np.nan, 6: 0})"
   ]
  },
  {
   "cell_type": "code",
   "execution_count": 20,
   "id": "22fb6a91",
   "metadata": {},
   "outputs": [],
   "source": [
    "#Q7 Consider the following list:\n",
    "\n",
    "x1 = [32, 21, 65, 89, 33, 23, 22, 40, 21, 32, 56, 45, 44, 38, 52]\n",
    "\n",
    "#From ‘x1’ create an ndarray ‘x2’ with 5 rows and 3 columns.\n",
    "#Find Mean, Variance, Median of data in x2 along the rows.\n",
    "#Find cumulative sum of rows in ‘x2’.\n",
    "#Sort the data in ‘x2’ along the columns.\n",
    "#Replace values greater than 40 in ‘x2’ with 0 using ‘where’ function.\n",
    "\n",
    "\n"
   ]
  },
  {
   "cell_type": "code",
   "execution_count": 21,
   "id": "715cb33a",
   "metadata": {},
   "outputs": [
    {
     "data": {
      "text/plain": [
       "[32, 21, 65, 89, 33, 23, 22, 40, 21, 32, 56, 45, 44, 38, 52]"
      ]
     },
     "execution_count": 21,
     "metadata": {},
     "output_type": "execute_result"
    }
   ],
   "source": [
    "x1\n"
   ]
  },
  {
   "cell_type": "code",
   "execution_count": 22,
   "id": "ba818851",
   "metadata": {},
   "outputs": [
    {
     "data": {
      "text/plain": [
       "array([[32, 21, 65],\n",
       "       [89, 33, 23],\n",
       "       [22, 40, 21],\n",
       "       [32, 56, 45],\n",
       "       [44, 38, 52]])"
      ]
     },
     "execution_count": 22,
     "metadata": {},
     "output_type": "execute_result"
    }
   ],
   "source": [
    "#From ‘x1’ create an ndarray ‘x2’ with 5 rows and 3 columns.\n",
    "x2 = np.array([x1]).reshape((5, 3))\n",
    "x2"
   ]
  },
  {
   "cell_type": "code",
   "execution_count": 23,
   "id": "fd376375",
   "metadata": {},
   "outputs": [
    {
     "data": {
      "text/plain": [
       "40.86666666666667"
      ]
     },
     "execution_count": 23,
     "metadata": {},
     "output_type": "execute_result"
    }
   ],
   "source": [
    "#Find Mean, Variance, Median of data in x2 along the rows.\n",
    "np.mean(x2)"
   ]
  },
  {
   "cell_type": "code",
   "execution_count": 24,
   "id": "1bf1c403",
   "metadata": {},
   "outputs": [
    {
     "data": {
      "text/plain": [
       "38.0"
      ]
     },
     "execution_count": 24,
     "metadata": {},
     "output_type": "execute_result"
    }
   ],
   "source": [
    "np.median(x2)"
   ]
  },
  {
   "cell_type": "code",
   "execution_count": 25,
   "id": "4a9e0e7f",
   "metadata": {},
   "outputs": [
    {
     "data": {
      "text/plain": [
       "331.44888888888886"
      ]
     },
     "execution_count": 25,
     "metadata": {},
     "output_type": "execute_result"
    }
   ],
   "source": [
    "np.var(x2)"
   ]
  },
  {
   "cell_type": "code",
   "execution_count": 26,
   "id": "bb6717da",
   "metadata": {},
   "outputs": [
    {
     "data": {
      "text/plain": [
       "array([[ 32,  21,  65],\n",
       "       [121,  54,  88],\n",
       "       [143,  94, 109],\n",
       "       [175, 150, 154],\n",
       "       [219, 188, 206]])"
      ]
     },
     "execution_count": 26,
     "metadata": {},
     "output_type": "execute_result"
    }
   ],
   "source": [
    "#Find cumulative sum of rows in ‘x2’.\n",
    "x2.cumsum(axis=0)"
   ]
  },
  {
   "cell_type": "code",
   "execution_count": 27,
   "id": "138d5fca",
   "metadata": {},
   "outputs": [
    {
     "data": {
      "text/plain": [
       "array([[22, 21, 21],\n",
       "       [32, 33, 23],\n",
       "       [32, 38, 45],\n",
       "       [44, 40, 52],\n",
       "       [89, 56, 65]])"
      ]
     },
     "execution_count": 27,
     "metadata": {},
     "output_type": "execute_result"
    }
   ],
   "source": [
    "#Sort the data in ‘x2’ along the columns.\n",
    "sort = np.sort(x2, axis=0)\n",
    "sort"
   ]
  },
  {
   "cell_type": "code",
   "execution_count": 28,
   "id": "073cc794",
   "metadata": {},
   "outputs": [],
   "source": [
    "#Replace values greater than 40 in ‘x2’ with 0 using ‘where’ function.\n"
   ]
  },
  {
   "cell_type": "code",
   "execution_count": 29,
   "id": "c50cfff2",
   "metadata": {},
   "outputs": [],
   "source": [
    "#x2[x2 > 40] = 0\n",
    "#x2"
   ]
  },
  {
   "cell_type": "code",
   "execution_count": 30,
   "id": "5d802d0d",
   "metadata": {},
   "outputs": [
    {
     "data": {
      "text/plain": [
       "array([[32, 21, 65],\n",
       "       [89, 33, 23],\n",
       "       [22, 40, 21],\n",
       "       [32, 56, 45],\n",
       "       [44, 38, 52]])"
      ]
     },
     "execution_count": 30,
     "metadata": {},
     "output_type": "execute_result"
    }
   ],
   "source": [
    "x2"
   ]
  },
  {
   "cell_type": "code",
   "execution_count": 31,
   "id": "8380336f",
   "metadata": {},
   "outputs": [
    {
     "data": {
      "text/plain": [
       "array([[32, 21,  0],\n",
       "       [ 0, 33, 23],\n",
       "       [22, 40, 21],\n",
       "       [32,  0,  0],\n",
       "       [ 0, 38,  0]])"
      ]
     },
     "execution_count": 31,
     "metadata": {},
     "output_type": "execute_result"
    }
   ],
   "source": [
    "zero = np.where((x2 > 40), 0, x2)\n",
    "zero\n"
   ]
  },
  {
   "cell_type": "code",
   "execution_count": 32,
   "id": "f47307a8",
   "metadata": {},
   "outputs": [],
   "source": [
    "#1. Consider a list of values:\n",
    "bag = [25,26,21,22,31,29,33,34,26,30,31,46]\n",
    "#• Import the appropriate Python libraries to create a ndarray called bag_weights\n",
    "#having 3 rows and 4 columns from the list bag.\n",
    "#• Use Numpy library to display the mean, variance and median of the given data in\n",
    "#bag_weights.\n",
    "#• Write a command to display the count of values greater than the median in\n",
    "#bag_weights.\n",
    "#• Transpose bag_weights and then split it in two arrays bagA and bagB having 2\n",
    "#rows and three columns each.\n",
    "#• Sort bagA such that it brings the highest value of the row in the first column. \n",
    "#Sort bagB such that it brings the lowest value of the row in the first column.\n",
    "#• Find the union and intersection of values in bagA and bagB."
   ]
  },
  {
   "cell_type": "code",
   "execution_count": 33,
   "id": "d3aa5a8a",
   "metadata": {},
   "outputs": [
    {
     "data": {
      "text/plain": [
       "array([[25, 26, 21, 22],\n",
       "       [31, 29, 33, 34],\n",
       "       [26, 30, 31, 46]])"
      ]
     },
     "execution_count": 33,
     "metadata": {},
     "output_type": "execute_result"
    }
   ],
   "source": [
    "#Import the appropriate Python libraries to create a ndarray called bag_weights\n",
    "#having 3 rows and 4 columns from the list bag.\n",
    "bag_weights = np.array([bag]).reshape((3, 4))\n",
    "bag_weights"
   ]
  },
  {
   "cell_type": "code",
   "execution_count": 34,
   "id": "5badfa4a",
   "metadata": {},
   "outputs": [],
   "source": [
    "#• Use Numpy library to display the mean, variance and median of the given data in\n",
    "#bag_weights.\n"
   ]
  },
  {
   "cell_type": "code",
   "execution_count": 35,
   "id": "87792bba",
   "metadata": {},
   "outputs": [
    {
     "data": {
      "text/plain": [
       "29.5"
      ]
     },
     "execution_count": 35,
     "metadata": {},
     "output_type": "execute_result"
    }
   ],
   "source": [
    "np.mean(bag_weights)"
   ]
  },
  {
   "cell_type": "code",
   "execution_count": 36,
   "id": "fef56217",
   "metadata": {},
   "outputs": [
    {
     "data": {
      "text/plain": [
       "29.5"
      ]
     },
     "execution_count": 36,
     "metadata": {},
     "output_type": "execute_result"
    }
   ],
   "source": [
    "np.median(bag_weights)"
   ]
  },
  {
   "cell_type": "code",
   "execution_count": 37,
   "id": "1e418da0",
   "metadata": {},
   "outputs": [
    {
     "data": {
      "text/plain": [
       "40.25"
      ]
     },
     "execution_count": 37,
     "metadata": {},
     "output_type": "execute_result"
    }
   ],
   "source": [
    "np.var(bag_weights)"
   ]
  },
  {
   "cell_type": "code",
   "execution_count": 38,
   "id": "d263d0f7",
   "metadata": {},
   "outputs": [
    {
     "data": {
      "text/plain": [
       "6"
      ]
     },
     "execution_count": 38,
     "metadata": {},
     "output_type": "execute_result"
    }
   ],
   "source": [
    "#• Write a command to display the count of values greater than the median in\n",
    "#bag_weights.\n",
    "median = 29.5\n",
    "greater_than_median = (bag_weights > median).sum()\n",
    "greater_than_median"
   ]
  },
  {
   "cell_type": "code",
   "execution_count": 39,
   "id": "7d58ae37",
   "metadata": {},
   "outputs": [
    {
     "data": {
      "text/plain": [
       "array([[25, 31, 26],\n",
       "       [26, 29, 30],\n",
       "       [21, 33, 31],\n",
       "       [22, 34, 46]])"
      ]
     },
     "execution_count": 39,
     "metadata": {},
     "output_type": "execute_result"
    }
   ],
   "source": [
    "#• Transpose bag_weights and then split it in two arrays bagA and bagB having 2\n",
    "#rows and three columns each.\n",
    "weights_bag = bag_weights.T\n",
    "weights_bag\n"
   ]
  },
  {
   "cell_type": "code",
   "execution_count": 40,
   "id": "5e4761a8",
   "metadata": {},
   "outputs": [
    {
     "data": {
      "text/plain": [
       "array([[25, 31, 26],\n",
       "       [26, 29, 30]])"
      ]
     },
     "execution_count": 40,
     "metadata": {},
     "output_type": "execute_result"
    }
   ],
   "source": [
    "bagA, bagB = np.array_split(weights_bag, 2)\n",
    "bagA\n"
   ]
  },
  {
   "cell_type": "code",
   "execution_count": 41,
   "id": "81b6b4ce",
   "metadata": {},
   "outputs": [
    {
     "data": {
      "text/plain": [
       "array([[21, 33, 31],\n",
       "       [22, 34, 46]])"
      ]
     },
     "execution_count": 41,
     "metadata": {},
     "output_type": "execute_result"
    }
   ],
   "source": [
    "bagB"
   ]
  },
  {
   "cell_type": "code",
   "execution_count": 48,
   "id": "a9397c9e",
   "metadata": {},
   "outputs": [
    {
     "data": {
      "text/plain": [
       "array([[31, 26, 25],\n",
       "       [30, 29, 26]])"
      ]
     },
     "execution_count": 48,
     "metadata": {},
     "output_type": "execute_result"
    }
   ],
   "source": [
    "#Sort bagA such that it brings the highest value of the row in the first column. \n",
    "#Sort bagB such that it brings the lowest value of the row in the first column.\n",
    "sorted_bagA = np.sort(bagA, axis=1)[:, ::-1]\n",
    "sorted_bagA"
   ]
  },
  {
   "cell_type": "code",
   "execution_count": 49,
   "id": "06c3469f",
   "metadata": {},
   "outputs": [
    {
     "data": {
      "text/plain": [
       "array([[21, 31, 33],\n",
       "       [22, 34, 46]])"
      ]
     },
     "execution_count": 49,
     "metadata": {},
     "output_type": "execute_result"
    }
   ],
   "source": [
    "np.sort(bagB)[::1]"
   ]
  },
  {
   "cell_type": "code",
   "execution_count": 44,
   "id": "37bfb9fd",
   "metadata": {},
   "outputs": [
    {
     "data": {
      "text/plain": [
       "array([21, 22, 25, 26, 29, 30, 31, 33, 34, 46])"
      ]
     },
     "execution_count": 44,
     "metadata": {},
     "output_type": "execute_result"
    }
   ],
   "source": [
    "#Find the union and intersection of values in bagA and bagB.\n",
    "union = np.union1d(bagA, bagB)\n",
    "union"
   ]
  },
  {
   "cell_type": "code",
   "execution_count": 45,
   "id": "bc6c895f",
   "metadata": {},
   "outputs": [
    {
     "data": {
      "text/plain": [
       "array([31])"
      ]
     },
     "execution_count": 45,
     "metadata": {},
     "output_type": "execute_result"
    }
   ],
   "source": [
    "intersection = np.intersect1d(bagA, bagB)\n",
    "intersection"
   ]
  },
  {
   "cell_type": "code",
   "execution_count": null,
   "id": "6fcaecce",
   "metadata": {},
   "outputs": [],
   "source": []
  }
 ],
 "metadata": {
  "kernelspec": {
   "display_name": "Python 3 (ipykernel)",
   "language": "python",
   "name": "python3"
  },
  "language_info": {
   "codemirror_mode": {
    "name": "ipython",
    "version": 3
   },
   "file_extension": ".py",
   "mimetype": "text/x-python",
   "name": "python",
   "nbconvert_exporter": "python",
   "pygments_lexer": "ipython3",
   "version": "3.11.3"
  }
 },
 "nbformat": 4,
 "nbformat_minor": 5
}
