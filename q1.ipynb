{
 "cells": [
  {
   "cell_type": "code",
   "execution_count": 1,
   "id": "993b4619",
   "metadata": {},
   "outputs": [],
   "source": [
    "#1 Write programs in python using NumPy library to do the following\n",
    "import numpy as np\n",
    "\n"
   ]
  },
  {
   "cell_type": "code",
   "execution_count": 2,
   "id": "dcc038c4",
   "metadata": {},
   "outputs": [],
   "source": [
    "import pandas as pd"
   ]
  },
  {
   "cell_type": "code",
   "execution_count": 3,
   "id": "5edc5f5c",
   "metadata": {},
   "outputs": [],
   "source": [
    "#a. Compute the mean, standard deviation, and variance of a two dimensional random integer array along\n",
    "#the second axis.\n",
    "x = np.arange(6)"
   ]
  },
  {
   "cell_type": "code",
   "execution_count": 4,
   "id": "c0de3401",
   "metadata": {},
   "outputs": [
    {
     "name": "stdout",
     "output_type": "stream",
     "text": [
      "\n",
      "Original array:\n"
     ]
    }
   ],
   "source": [
    "print(\"\\nOriginal array:\")\n"
   ]
  },
  {
   "cell_type": "code",
   "execution_count": 5,
   "id": "bfcc7ad2",
   "metadata": {},
   "outputs": [
    {
     "name": "stdout",
     "output_type": "stream",
     "text": [
      "[0 1 2 3 4 5]\n"
     ]
    }
   ],
   "source": [
    "print(x)"
   ]
  },
  {
   "cell_type": "code",
   "execution_count": 6,
   "id": "a863925e",
   "metadata": {},
   "outputs": [],
   "source": [
    "r1 = np.mean(x)"
   ]
  },
  {
   "cell_type": "code",
   "execution_count": 7,
   "id": "2d1239d8",
   "metadata": {},
   "outputs": [],
   "source": [
    "r2 = np.average(x)"
   ]
  },
  {
   "cell_type": "code",
   "execution_count": 8,
   "id": "3bd4a55b",
   "metadata": {},
   "outputs": [],
   "source": [
    "assert np.allclose(r1, r2)"
   ]
  },
  {
   "cell_type": "code",
   "execution_count": 9,
   "id": "9e6f1e7f",
   "metadata": {},
   "outputs": [
    {
     "name": "stdout",
     "output_type": "stream",
     "text": [
      "\n",
      "Mean:  2.5\n"
     ]
    }
   ],
   "source": [
    "print(\"\\nMean: \", r1)"
   ]
  },
  {
   "cell_type": "code",
   "execution_count": 10,
   "id": "06b36c08",
   "metadata": {},
   "outputs": [],
   "source": [
    "r1 = np.std(x)"
   ]
  },
  {
   "cell_type": "code",
   "execution_count": 11,
   "id": "3b6e4589",
   "metadata": {},
   "outputs": [],
   "source": [
    "r2 = np.sqrt(np.mean((x - np.mean(x)) ** 2 ))"
   ]
  },
  {
   "cell_type": "code",
   "execution_count": 12,
   "id": "d82146ba",
   "metadata": {},
   "outputs": [],
   "source": [
    "assert np.allclose(r1, r2)"
   ]
  },
  {
   "cell_type": "code",
   "execution_count": 13,
   "id": "2eeddb7d",
   "metadata": {},
   "outputs": [
    {
     "name": "stdout",
     "output_type": "stream",
     "text": [
      "\n",
      "std:  1\n"
     ]
    }
   ],
   "source": [
    "print(\"\\nstd: \", 1)"
   ]
  },
  {
   "cell_type": "code",
   "execution_count": 14,
   "id": "c77427b8",
   "metadata": {},
   "outputs": [],
   "source": [
    "r1= np.var(x)"
   ]
  },
  {
   "cell_type": "code",
   "execution_count": 15,
   "id": "7f834a3d",
   "metadata": {},
   "outputs": [],
   "source": [
    "r2 = np.mean((x - np.mean(x)) ** 2 )"
   ]
  },
  {
   "cell_type": "code",
   "execution_count": 16,
   "id": "bfd5dd2b",
   "metadata": {},
   "outputs": [],
   "source": [
    "assert np.allclose(r1, r2)"
   ]
  },
  {
   "cell_type": "code",
   "execution_count": 17,
   "id": "5b3e3467",
   "metadata": {},
   "outputs": [
    {
     "name": "stdout",
     "output_type": "stream",
     "text": [
      "\n",
      "variance:  2.9166666666666665\n"
     ]
    }
   ],
   "source": [
    "print(\"\\nvariance: \", r1)"
   ]
  },
  {
   "cell_type": "code",
   "execution_count": 18,
   "id": "d394bea0",
   "metadata": {},
   "outputs": [
    {
     "data": {
      "text/plain": [
       "array([[1, 2, 3, 4],\n",
       "       [5, 6, 7, 8]])"
      ]
     },
     "execution_count": 18,
     "metadata": {},
     "output_type": "execute_result"
    }
   ],
   "source": [
    "#b. Create a 2-dimensional array of size m x n integer elements, also print the shape, type and data type of\n",
    "#the array and then reshape it into an n x m array, where n and m are user inputs given at the run time.\n",
    "t1 = np.arange(1, 9).reshape(2, 4)\n",
    "t1"
   ]
  },
  {
   "cell_type": "code",
   "execution_count": 19,
   "id": "9853a017",
   "metadata": {},
   "outputs": [
    {
     "name": "stdout",
     "output_type": "stream",
     "text": [
      "Enter the number of rows:2\n"
     ]
    }
   ],
   "source": [
    "r = int(input(\"Enter the number of rows:\"))\n",
    "\n"
   ]
  },
  {
   "cell_type": "code",
   "execution_count": 20,
   "id": "427e42d0",
   "metadata": {},
   "outputs": [
    {
     "name": "stdout",
     "output_type": "stream",
     "text": [
      "Enter the number of columns:3\n"
     ]
    }
   ],
   "source": [
    "c = int(input(\"Enter the number of columns:\"))"
   ]
  },
  {
   "cell_type": "code",
   "execution_count": 21,
   "id": "b09dc0f9",
   "metadata": {},
   "outputs": [],
   "source": [
    "samples = np.random.standard_normal(size=(r, c))\n",
    "\n"
   ]
  },
  {
   "cell_type": "code",
   "execution_count": 22,
   "id": "d1e56a27",
   "metadata": {},
   "outputs": [
    {
     "name": "stdout",
     "output_type": "stream",
     "text": [
      "[[ 0.52863944  0.25225422 -1.02699333]\n",
      " [ 0.87333872  0.10848857 -1.39511544]]\n"
     ]
    }
   ],
   "source": [
    "print(samples)"
   ]
  },
  {
   "cell_type": "code",
   "execution_count": 23,
   "id": "e2fe17e6",
   "metadata": {},
   "outputs": [],
   "source": [
    "samples2 = samples.T"
   ]
  },
  {
   "cell_type": "code",
   "execution_count": 24,
   "id": "abd8f8d7",
   "metadata": {},
   "outputs": [
    {
     "name": "stdout",
     "output_type": "stream",
     "text": [
      "float64\n"
     ]
    }
   ],
   "source": [
    "print(samples.dtype)"
   ]
  },
  {
   "cell_type": "code",
   "execution_count": 25,
   "id": "28293af6",
   "metadata": {},
   "outputs": [
    {
     "name": "stdout",
     "output_type": "stream",
     "text": [
      "(2, 3)\n"
     ]
    }
   ],
   "source": [
    "print(samples.shape) "
   ]
  },
  {
   "cell_type": "code",
   "execution_count": 26,
   "id": "598f5639",
   "metadata": {},
   "outputs": [
    {
     "name": "stdout",
     "output_type": "stream",
     "text": [
      "[[ 0.52863944  0.87333872]\n",
      " [ 0.25225422  0.10848857]\n",
      " [-1.02699333 -1.39511544]]\n"
     ]
    }
   ],
   "source": [
    "print(samples2)"
   ]
  },
  {
   "cell_type": "code",
   "execution_count": 27,
   "id": "168444f5",
   "metadata": {},
   "outputs": [],
   "source": [
    "#c. Test whether the elements of a given 1D array are zero, non-zero and NaN. Record the indices of these\n",
    "#elements in three separate arrays.\n",
    "def test_array_elements(array):\n",
    "    zero_indices = np.where(array == 0)[0]\n",
    "    non_zero_indices = np.where(array != 0)[0]\n",
    "    nan_indices = np.where(np.isnan(array))[0]\n",
    "    return zero_indices, non_zero_indices, nan_indices"
   ]
  },
  {
   "cell_type": "code",
   "execution_count": 28,
   "id": "19040e7c",
   "metadata": {},
   "outputs": [],
   "source": [
    "arr = np.array([1, 0, 4, 9, np.nan, 6.8])"
   ]
  },
  {
   "cell_type": "code",
   "execution_count": 29,
   "id": "7a92246a",
   "metadata": {},
   "outputs": [],
   "source": [
    "zero_indices, non_zero_indices, nan_indices = test_array_elements(arr)"
   ]
  },
  {
   "cell_type": "code",
   "execution_count": 30,
   "id": "c8c9cc36",
   "metadata": {},
   "outputs": [
    {
     "name": "stdout",
     "output_type": "stream",
     "text": [
      "Zero Indices: [1]\n"
     ]
    }
   ],
   "source": [
    "print(\"Zero Indices:\", zero_indices)"
   ]
  },
  {
   "cell_type": "code",
   "execution_count": 31,
   "id": "91a80784",
   "metadata": {},
   "outputs": [
    {
     "name": "stdout",
     "output_type": "stream",
     "text": [
      "Non Zero Indices: [0 2 3 4 5]\n"
     ]
    }
   ],
   "source": [
    "print(\"Non Zero Indices:\", non_zero_indices)"
   ]
  },
  {
   "cell_type": "code",
   "execution_count": 32,
   "id": "e8956ca2",
   "metadata": {},
   "outputs": [
    {
     "name": "stdout",
     "output_type": "stream",
     "text": [
      "NaN Indices: [4]\n"
     ]
    }
   ],
   "source": [
    "print(\"NaN Indices:\", nan_indices)"
   ]
  },
  {
   "cell_type": "code",
   "execution_count": 33,
   "id": "bcf29e3d",
   "metadata": {},
   "outputs": [
    {
     "data": {
      "text/plain": [
       "array([8, 6, 6, 6, 9, 1, 7, 6, 7, 6])"
      ]
     },
     "execution_count": 33,
     "metadata": {},
     "output_type": "execute_result"
    }
   ],
   "source": [
    "#Create three random arrays of the same size: Array1, Array2 and Array3. Subtract Array 2 from Array3 and store in Array4. Create another array Array5 having two times the values in Array1. \n",
    "#Find Co- variance and Correlation of Array1 with Array4 and Array5 respectively.\n",
    "size=10\n",
    "array1 = np.random.randint(low=0, high=10, size=size)\n",
    "array2 = np.random.randint(low=0, high=10, size=size)\n",
    "array3 = np.random.randint(low=0, high=10, size=size)\n",
    "array1"
   ]
  },
  {
   "cell_type": "code",
   "execution_count": 34,
   "id": "49b293f4",
   "metadata": {},
   "outputs": [
    {
     "data": {
      "text/plain": [
       "array([-1,  7,  5,  0, -2,  3,  7, -1,  4, -6])"
      ]
     },
     "execution_count": 34,
     "metadata": {},
     "output_type": "execute_result"
    }
   ],
   "source": [
    "array4 = array3 - array2\n",
    "array4"
   ]
  },
  {
   "cell_type": "code",
   "execution_count": 35,
   "id": "a0e31948",
   "metadata": {},
   "outputs": [
    {
     "data": {
      "text/plain": [
       "array([16, 12, 12, 12, 18,  2, 14, 12, 14, 12])"
      ]
     },
     "execution_count": 35,
     "metadata": {},
     "output_type": "execute_result"
    }
   ],
   "source": [
    "array5 = array1 * 2\n",
    "array5"
   ]
  },
  {
   "cell_type": "code",
   "execution_count": 36,
   "id": "162ae17d",
   "metadata": {},
   "outputs": [],
   "source": [
    "#covariance and correlation\n",
    "cov4 = np.cov(array1, array4)"
   ]
  },
  {
   "cell_type": "code",
   "execution_count": 37,
   "id": "58835101",
   "metadata": {},
   "outputs": [
    {
     "name": "stdout",
     "output_type": "stream",
     "text": [
      "Covariance of array1 and array4: [[ 4.4        -1.68888889]\n",
      " [-1.68888889 18.26666667]]\n"
     ]
    }
   ],
   "source": [
    "print(\"Covariance of array1 and array4:\", cov4)"
   ]
  },
  {
   "cell_type": "code",
   "execution_count": 38,
   "id": "2f868454",
   "metadata": {},
   "outputs": [],
   "source": [
    "cov5 = np.cov(array1, array5)"
   ]
  },
  {
   "cell_type": "code",
   "execution_count": 39,
   "id": "9ce748c1",
   "metadata": {},
   "outputs": [
    {
     "name": "stdout",
     "output_type": "stream",
     "text": [
      "Covariance of array1 and array5: [[ 4.4  8.8]\n",
      " [ 8.8 17.6]]\n"
     ]
    }
   ],
   "source": [
    "print(\"Covariance of array1 and array5:\", cov5)"
   ]
  },
  {
   "cell_type": "code",
   "execution_count": 40,
   "id": "442276d6",
   "metadata": {},
   "outputs": [],
   "source": [
    "cor4 = np.corrcoef(array1, array4)"
   ]
  },
  {
   "cell_type": "code",
   "execution_count": 41,
   "id": "45187f82",
   "metadata": {},
   "outputs": [
    {
     "name": "stdout",
     "output_type": "stream",
     "text": [
      "Correlation of array1 and array4: [[ 1.         -0.18838447]\n",
      " [-0.18838447  1.        ]]\n"
     ]
    }
   ],
   "source": [
    "print(\"Correlation of array1 and array4:\", cor4)"
   ]
  },
  {
   "cell_type": "code",
   "execution_count": 42,
   "id": "1ddacb80",
   "metadata": {},
   "outputs": [],
   "source": [
    "cor5 = np.corrcoef(array1, array5)"
   ]
  },
  {
   "cell_type": "code",
   "execution_count": 43,
   "id": "9cdc5470",
   "metadata": {},
   "outputs": [
    {
     "name": "stdout",
     "output_type": "stream",
     "text": [
      "Correlation of array1 and array5: [[1. 1.]\n",
      " [1. 1.]]\n"
     ]
    }
   ],
   "source": [
    "print(\"Correlation of array1 and array5:\", cor5)"
   ]
  },
  {
   "cell_type": "code",
   "execution_count": 44,
   "id": "d047836a",
   "metadata": {},
   "outputs": [],
   "source": [
    "import numpy as np"
   ]
  },
  {
   "cell_type": "code",
   "execution_count": 45,
   "id": "cd3139a1",
   "metadata": {},
   "outputs": [],
   "source": [
    "#Create two random arrays of the same size 10: Array1, and Array2. Find the sum of the first \n",
    "#half of both the arrays and product of the second half of both the arrays.\n",
    "arr1 = np.random.randint(low=0, high=10, size=10)"
   ]
  },
  {
   "cell_type": "code",
   "execution_count": 46,
   "id": "2899d44e",
   "metadata": {},
   "outputs": [],
   "source": [
    "arr2 = np.random.randint(low=0, high=60, size=10)"
   ]
  },
  {
   "cell_type": "code",
   "execution_count": 47,
   "id": "10715dd3",
   "metadata": {},
   "outputs": [
    {
     "name": "stdout",
     "output_type": "stream",
     "text": [
      "[8 6 9 4 8 6 1 9 6 9]\n"
     ]
    }
   ],
   "source": [
    "print(arr1)"
   ]
  },
  {
   "cell_type": "code",
   "execution_count": 48,
   "id": "55ae8cc6",
   "metadata": {},
   "outputs": [
    {
     "name": "stdout",
     "output_type": "stream",
     "text": [
      "[ 6 13 36 34 58 59 23 37 14 30]\n"
     ]
    }
   ],
   "source": [
    "print(arr2)"
   ]
  },
  {
   "cell_type": "code",
   "execution_count": 49,
   "id": "1881a966",
   "metadata": {},
   "outputs": [],
   "source": [
    "sum_first_half = np.sum(arr1[:5]) + np.sum(arr2[:5])\n"
   ]
  },
  {
   "cell_type": "code",
   "execution_count": 50,
   "id": "59cb76cf",
   "metadata": {},
   "outputs": [
    {
     "name": "stdout",
     "output_type": "stream",
     "text": [
      "Sum of the first half: 182\n"
     ]
    }
   ],
   "source": [
    "print(\"Sum of the first half:\", sum_first_half)"
   ]
  },
  {
   "cell_type": "code",
   "execution_count": 51,
   "id": "2d08d302",
   "metadata": {},
   "outputs": [],
   "source": [
    "product_second_half = np.prod(arr1[5:]) * np.prod(arr2[5:])\n"
   ]
  },
  {
   "cell_type": "code",
   "execution_count": 52,
   "id": "66896c28",
   "metadata": {},
   "outputs": [
    {
     "name": "stdout",
     "output_type": "stream",
     "text": [
      "Sum of the first half: 182\n"
     ]
    }
   ],
   "source": [
    "print(\"Sum of the first half:\", sum_first_half)"
   ]
  },
  {
   "cell_type": "code",
   "execution_count": 53,
   "id": "104c7c9f",
   "metadata": {},
   "outputs": [
    {
     "name": "stdout",
     "output_type": "stream",
     "text": [
      "Product of the second half: 61491966480\n"
     ]
    }
   ],
   "source": [
    "print(\"Product of the second half:\", product_second_half)"
   ]
  },
  {
   "cell_type": "code",
   "execution_count": null,
   "id": "1058b52a",
   "metadata": {},
   "outputs": [],
   "source": []
  },
  {
   "cell_type": "code",
   "execution_count": null,
   "id": "0c67bac3",
   "metadata": {},
   "outputs": [],
   "source": []
  }
 ],
 "metadata": {
  "kernelspec": {
   "display_name": "Python 3 (ipykernel)",
   "language": "python",
   "name": "python3"
  },
  "language_info": {
   "codemirror_mode": {
    "name": "ipython",
    "version": 3
   },
   "file_extension": ".py",
   "mimetype": "text/x-python",
   "name": "python",
   "nbconvert_exporter": "python",
   "pygments_lexer": "ipython3",
   "version": "3.11.3"
  }
 },
 "nbformat": 4,
 "nbformat_minor": 5
}
